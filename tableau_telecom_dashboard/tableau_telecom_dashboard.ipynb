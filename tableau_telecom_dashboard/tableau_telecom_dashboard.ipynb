{
 "cells": [
  {
   "cell_type": "markdown",
   "id": "d5ce2943",
   "metadata": {},
   "source": [
    "### Шаг 0. План работ"
   ]
  },
  {
   "cell_type": "markdown",
   "id": "dc184d97",
   "metadata": {},
   "source": [
    "1. **Импортировать необходимые библиотеки**\n",
    "    - Импортировать пандас, numpy, os SQL-алхимию\n",
    "2. **Подключиться к базе данных**\n",
    "    - Определиться с типом подключения к БД\n",
    "    - Создать движок SQL-алхимии\n",
    "    - Проверить работоспособность на простом запросе\n",
    "3. **Написать запрос по задаче**\n",
    "    - Написать запрос к базе данных, который создаст таблицу-витрину для Tableau\n",
    "    - Выгрузить витрину в CSV-файл\n",
    "4. **Подключить CSV-файл к Tableau и создать презентацию, которая ответит на вопросы из задачи**\n",
    "    1. Как распределены участники опроса по возрасту и полу? Каких пользователей больше: новых или старых? Пользователи из каких городов активнее участвовали в опросе?\n",
    "    2. Какие группы пользователей наиболее лояльны к сервису? Какие менее?\n",
    "    3. Какой общий NPS среди всех опрошенных?\n",
    "    4. Как можно описать клиентов, которые относятся к группе cторонников (англ. promoters)?\n",
    "5. **Упаковать ответы на вопросы в презентацию и закрепить в JN-документе**"
   ]
  },
  {
   "cell_type": "markdown",
   "id": "52818791",
   "metadata": {},
   "source": [
    "### Шаг 1. Импорты"
   ]
  },
  {
   "cell_type": "code",
   "execution_count": 72,
   "id": "fc7efa54",
   "metadata": {},
   "outputs": [],
   "source": [
    "import os\n",
    "import pandas as pd\n",
    "import numpy as np\n",
    "from sqlalchemy import create_engine"
   ]
  },
  {
   "cell_type": "markdown",
   "id": "2b4583bb",
   "metadata": {},
   "source": [
    "### Шаг 2. Подключение к базе данных"
   ]
  },
  {
   "cell_type": "markdown",
   "id": "a942603b",
   "metadata": {},
   "source": [
    "#### 1. Подключение"
   ]
  },
  {
   "cell_type": "code",
   "execution_count": 9,
   "id": "b73c5554",
   "metadata": {},
   "outputs": [],
   "source": [
    "path_to_db = '/datasets/telecomm_csi.db'\n",
    "engine = create_engine(f'sqlite:///{path_to_db}', echo=False)"
   ]
  },
  {
   "cell_type": "markdown",
   "id": "961c50ae",
   "metadata": {},
   "source": [
    "#### 2. Проверка"
   ]
  },
  {
   "cell_type": "code",
   "execution_count": 74,
   "id": "3631bdd1",
   "metadata": {},
   "outputs": [],
   "source": [
    "query = \"\"\" SELECT * FROM user LIMIT 5\"\"\""
   ]
  },
  {
   "cell_type": "code",
   "execution_count": 76,
   "id": "ed2799c9",
   "metadata": {},
   "outputs": [
    {
     "name": "stdout",
     "output_type": "stream",
     "text": [
      "<class 'pandas.core.frame.DataFrame'>\n",
      "RangeIndex: 5 entries, 0 to 4\n",
      "Data columns (total 11 columns):\n",
      " #   Column          Non-Null Count  Dtype  \n",
      "---  ------          --------------  -----  \n",
      " 0   user_id         5 non-null      object \n",
      " 1   lt_day          5 non-null      int64  \n",
      " 2   age             5 non-null      float64\n",
      " 3   gender_segment  5 non-null      float64\n",
      " 4   os_name         5 non-null      object \n",
      " 5   cpe_type_name   5 non-null      object \n",
      " 6   location_id     5 non-null      int64  \n",
      " 7   age_gr_id       5 non-null      int64  \n",
      " 8   tr_gr_id        5 non-null      int64  \n",
      " 9   lt_gr_id        5 non-null      int64  \n",
      " 10  nps_score       5 non-null      int64  \n",
      "dtypes: float64(2), int64(6), object(3)\n",
      "memory usage: 568.0+ bytes\n"
     ]
    },
    {
     "data": {
      "text/plain": [
       "None"
      ]
     },
     "metadata": {},
     "output_type": "display_data"
    },
    {
     "data": {
      "text/html": [
       "<div>\n",
       "<style scoped>\n",
       "    .dataframe tbody tr th:only-of-type {\n",
       "        vertical-align: middle;\n",
       "    }\n",
       "\n",
       "    .dataframe tbody tr th {\n",
       "        vertical-align: top;\n",
       "    }\n",
       "\n",
       "    .dataframe thead th {\n",
       "        text-align: right;\n",
       "    }\n",
       "</style>\n",
       "<table border=\"1\" class=\"dataframe\">\n",
       "  <thead>\n",
       "    <tr style=\"text-align: right;\">\n",
       "      <th></th>\n",
       "      <th>user_id</th>\n",
       "      <th>lt_day</th>\n",
       "      <th>age</th>\n",
       "      <th>gender_segment</th>\n",
       "      <th>os_name</th>\n",
       "      <th>cpe_type_name</th>\n",
       "      <th>location_id</th>\n",
       "      <th>age_gr_id</th>\n",
       "      <th>tr_gr_id</th>\n",
       "      <th>lt_gr_id</th>\n",
       "      <th>nps_score</th>\n",
       "    </tr>\n",
       "  </thead>\n",
       "  <tbody>\n",
       "    <tr>\n",
       "      <th>0</th>\n",
       "      <td>A001A2</td>\n",
       "      <td>2320</td>\n",
       "      <td>45.0</td>\n",
       "      <td>1.0</td>\n",
       "      <td>ANDROID</td>\n",
       "      <td>SMARTPHONE</td>\n",
       "      <td>55</td>\n",
       "      <td>5</td>\n",
       "      <td>5</td>\n",
       "      <td>8</td>\n",
       "      <td>10</td>\n",
       "    </tr>\n",
       "    <tr>\n",
       "      <th>1</th>\n",
       "      <td>A001WF</td>\n",
       "      <td>2344</td>\n",
       "      <td>53.0</td>\n",
       "      <td>0.0</td>\n",
       "      <td>ANDROID</td>\n",
       "      <td>SMARTPHONE</td>\n",
       "      <td>21</td>\n",
       "      <td>5</td>\n",
       "      <td>5</td>\n",
       "      <td>8</td>\n",
       "      <td>10</td>\n",
       "    </tr>\n",
       "    <tr>\n",
       "      <th>2</th>\n",
       "      <td>A003Q7</td>\n",
       "      <td>467</td>\n",
       "      <td>57.0</td>\n",
       "      <td>0.0</td>\n",
       "      <td>ANDROID</td>\n",
       "      <td>SMARTPHONE</td>\n",
       "      <td>28</td>\n",
       "      <td>6</td>\n",
       "      <td>9</td>\n",
       "      <td>6</td>\n",
       "      <td>10</td>\n",
       "    </tr>\n",
       "    <tr>\n",
       "      <th>3</th>\n",
       "      <td>A004TB</td>\n",
       "      <td>4190</td>\n",
       "      <td>44.0</td>\n",
       "      <td>1.0</td>\n",
       "      <td>IOS</td>\n",
       "      <td>SMARTPHONE</td>\n",
       "      <td>38</td>\n",
       "      <td>4</td>\n",
       "      <td>4</td>\n",
       "      <td>8</td>\n",
       "      <td>10</td>\n",
       "    </tr>\n",
       "    <tr>\n",
       "      <th>4</th>\n",
       "      <td>A004XT</td>\n",
       "      <td>1163</td>\n",
       "      <td>24.0</td>\n",
       "      <td>0.0</td>\n",
       "      <td>ANDROID</td>\n",
       "      <td>SMARTPHONE</td>\n",
       "      <td>39</td>\n",
       "      <td>2</td>\n",
       "      <td>6</td>\n",
       "      <td>8</td>\n",
       "      <td>10</td>\n",
       "    </tr>\n",
       "  </tbody>\n",
       "</table>\n",
       "</div>"
      ],
      "text/plain": [
       "  user_id  lt_day   age  gender_segment  os_name cpe_type_name  location_id  \\\n",
       "0  A001A2    2320  45.0             1.0  ANDROID    SMARTPHONE           55   \n",
       "1  A001WF    2344  53.0             0.0  ANDROID    SMARTPHONE           21   \n",
       "2  A003Q7     467  57.0             0.0  ANDROID    SMARTPHONE           28   \n",
       "3  A004TB    4190  44.0             1.0      IOS    SMARTPHONE           38   \n",
       "4  A004XT    1163  24.0             0.0  ANDROID    SMARTPHONE           39   \n",
       "\n",
       "   age_gr_id  tr_gr_id  lt_gr_id  nps_score  \n",
       "0          5         5         8         10  \n",
       "1          5         5         8         10  \n",
       "2          6         9         6         10  \n",
       "3          4         4         8         10  \n",
       "4          2         6         8         10  "
      ]
     },
     "metadata": {},
     "output_type": "display_data"
    }
   ],
   "source": [
    "df = pd.read_sql(query, engine)\n",
    "\n",
    "display(\n",
    "    df.info(),\n",
    "    df\n",
    ")"
   ]
  },
  {
   "cell_type": "markdown",
   "id": "b22ddbfd",
   "metadata": {},
   "source": [
    "#### 3. Вывод\n",
    "Всё работает корректно!"
   ]
  },
  {
   "cell_type": "markdown",
   "id": "c49b5786",
   "metadata": {},
   "source": [
    "### Шаг 3. Создать витрину"
   ]
  },
  {
   "cell_type": "markdown",
   "id": "43589e40",
   "metadata": {},
   "source": [
    "#### 1. Запрос"
   ]
  },
  {
   "cell_type": "code",
   "execution_count": 79,
   "id": "84ebad43",
   "metadata": {},
   "outputs": [],
   "source": [
    "query = \"\"\"\n",
    "\n",
    "SELECT user_id,\n",
    "       lt_day,\n",
    "       CASE\n",
    "           WHEN lt_day <= 365 THEN 'new'\n",
    "           WHEN lt_day > 365 THEN 'old'\n",
    "       END AS is_new,\n",
    "       age,\n",
    "       CASE\n",
    "           WHEN gender_segment = 1 THEN 'woman'\n",
    "           WHEN gender_segment = 0 THEN 'man'\n",
    "           ELSE 'undefined'\n",
    "       END as gender_segment,\n",
    "       os_name,\n",
    "       cpe_type_name,\n",
    "       l.country,\n",
    "       l.city,\n",
    "       SUBSTR(ages.title, INSTR(ages.title, ' ') + 1) AS age_segment,\n",
    "       SUBSTR(ts.title, INSTR(ts.title, ' ') + 1) AS traffic_segment,\n",
    "       lts.lt_gr_id AS lifetime_segment,\n",
    "       nps_score,\n",
    "       CASE\n",
    "           WHEN nps_score >= 9 THEN 'promoter'\n",
    "           WHEN nps_score > 6 THEN 'passive'\n",
    "           WHEN nps_score <= 6 THEN 'detractor'\n",
    "       END AS nps_group\n",
    "\n",
    "  FROM user AS u\n",
    "  JOIN location AS l \n",
    "    ON u.location_id=l.location_id\n",
    "  JOIN age_segment AS ages \n",
    "    ON u.age_gr_id=ages.age_gr_id\n",
    "  JOIN traffic_segment AS ts \n",
    "    ON u.tr_gr_id=ts.tr_gr_id\n",
    "  JOIN lifetime_segment AS lts \n",
    "    ON u.lt_gr_id=lts.lt_gr_id\n",
    "  \n",
    "\"\"\""
   ]
  },
  {
   "cell_type": "markdown",
   "id": "b5e688dd",
   "metadata": {},
   "source": [
    "#### 2. Вывод таблицы"
   ]
  },
  {
   "cell_type": "code",
   "execution_count": 80,
   "id": "3965faf2",
   "metadata": {},
   "outputs": [
    {
     "name": "stdout",
     "output_type": "stream",
     "text": [
      "<class 'pandas.core.frame.DataFrame'>\n",
      "RangeIndex: 502493 entries, 0 to 502492\n",
      "Data columns (total 14 columns):\n",
      " #   Column            Non-Null Count   Dtype  \n",
      "---  ------            --------------   -----  \n",
      " 0   user_id           502493 non-null  object \n",
      " 1   lt_day            502493 non-null  int64  \n",
      " 2   is_new            502493 non-null  object \n",
      " 3   age               501939 non-null  float64\n",
      " 4   gender_segment    502493 non-null  object \n",
      " 5   os_name           502493 non-null  object \n",
      " 6   cpe_type_name     502493 non-null  object \n",
      " 7   country           502493 non-null  object \n",
      " 8   city              502493 non-null  object \n",
      " 9   age_segment       502493 non-null  object \n",
      " 10  traffic_segment   502493 non-null  object \n",
      " 11  lifetime_segment  502493 non-null  int64  \n",
      " 12  nps_score         502493 non-null  int64  \n",
      " 13  nps_group         502493 non-null  object \n",
      "dtypes: float64(1), int64(3), object(10)\n",
      "memory usage: 53.7+ MB\n"
     ]
    },
    {
     "data": {
      "text/plain": [
       "None"
      ]
     },
     "metadata": {},
     "output_type": "display_data"
    },
    {
     "data": {
      "text/html": [
       "<div>\n",
       "<style scoped>\n",
       "    .dataframe tbody tr th:only-of-type {\n",
       "        vertical-align: middle;\n",
       "    }\n",
       "\n",
       "    .dataframe tbody tr th {\n",
       "        vertical-align: top;\n",
       "    }\n",
       "\n",
       "    .dataframe thead th {\n",
       "        text-align: right;\n",
       "    }\n",
       "</style>\n",
       "<table border=\"1\" class=\"dataframe\">\n",
       "  <thead>\n",
       "    <tr style=\"text-align: right;\">\n",
       "      <th></th>\n",
       "      <th>user_id</th>\n",
       "      <th>lt_day</th>\n",
       "      <th>is_new</th>\n",
       "      <th>age</th>\n",
       "      <th>gender_segment</th>\n",
       "      <th>os_name</th>\n",
       "      <th>cpe_type_name</th>\n",
       "      <th>country</th>\n",
       "      <th>city</th>\n",
       "      <th>age_segment</th>\n",
       "      <th>traffic_segment</th>\n",
       "      <th>lifetime_segment</th>\n",
       "      <th>nps_score</th>\n",
       "      <th>nps_group</th>\n",
       "    </tr>\n",
       "  </thead>\n",
       "  <tbody>\n",
       "    <tr>\n",
       "      <th>340647</th>\n",
       "      <td>RMKKQC</td>\n",
       "      <td>222</td>\n",
       "      <td>new</td>\n",
       "      <td>30.0</td>\n",
       "      <td>man</td>\n",
       "      <td>ANDROID</td>\n",
       "      <td>SMARTPHONE</td>\n",
       "      <td>Россия</td>\n",
       "      <td>Москва</td>\n",
       "      <td>25-34</td>\n",
       "      <td>40-45</td>\n",
       "      <td>5</td>\n",
       "      <td>10</td>\n",
       "      <td>promoter</td>\n",
       "    </tr>\n",
       "    <tr>\n",
       "      <th>237565</th>\n",
       "      <td>MAB47R</td>\n",
       "      <td>777</td>\n",
       "      <td>old</td>\n",
       "      <td>30.0</td>\n",
       "      <td>woman</td>\n",
       "      <td>ANDROID</td>\n",
       "      <td>SMARTPHONE</td>\n",
       "      <td>Россия</td>\n",
       "      <td>НижнийНовгород</td>\n",
       "      <td>25-34</td>\n",
       "      <td>35-40</td>\n",
       "      <td>7</td>\n",
       "      <td>10</td>\n",
       "      <td>promoter</td>\n",
       "    </tr>\n",
       "    <tr>\n",
       "      <th>352321</th>\n",
       "      <td>S8B2S0</td>\n",
       "      <td>1676</td>\n",
       "      <td>old</td>\n",
       "      <td>41.0</td>\n",
       "      <td>man</td>\n",
       "      <td>ANDROID</td>\n",
       "      <td>SMARTPHONE</td>\n",
       "      <td>Россия</td>\n",
       "      <td>Москва</td>\n",
       "      <td>35-44</td>\n",
       "      <td>5-10</td>\n",
       "      <td>8</td>\n",
       "      <td>10</td>\n",
       "      <td>promoter</td>\n",
       "    </tr>\n",
       "    <tr>\n",
       "      <th>291603</th>\n",
       "      <td>P2X8EO</td>\n",
       "      <td>3983</td>\n",
       "      <td>old</td>\n",
       "      <td>30.0</td>\n",
       "      <td>woman</td>\n",
       "      <td>ANDROID</td>\n",
       "      <td>SMARTPHONE</td>\n",
       "      <td>Россия</td>\n",
       "      <td>Волгоград</td>\n",
       "      <td>25-34</td>\n",
       "      <td>15-20</td>\n",
       "      <td>8</td>\n",
       "      <td>8</td>\n",
       "      <td>passive</td>\n",
       "    </tr>\n",
       "    <tr>\n",
       "      <th>356378</th>\n",
       "      <td>SFP7E2</td>\n",
       "      <td>4211</td>\n",
       "      <td>old</td>\n",
       "      <td>44.0</td>\n",
       "      <td>woman</td>\n",
       "      <td>ANDROID</td>\n",
       "      <td>SMARTPHONE</td>\n",
       "      <td>Россия</td>\n",
       "      <td>Хабаровск</td>\n",
       "      <td>35-44</td>\n",
       "      <td>1-5</td>\n",
       "      <td>8</td>\n",
       "      <td>5</td>\n",
       "      <td>detractor</td>\n",
       "    </tr>\n",
       "    <tr>\n",
       "      <th>365597</th>\n",
       "      <td>SWRKYD</td>\n",
       "      <td>4016</td>\n",
       "      <td>old</td>\n",
       "      <td>61.0</td>\n",
       "      <td>woman</td>\n",
       "      <td>ANDROID</td>\n",
       "      <td>SMARTPHONE</td>\n",
       "      <td>Россия</td>\n",
       "      <td>Балашиха</td>\n",
       "      <td>55-64</td>\n",
       "      <td>1-5</td>\n",
       "      <td>8</td>\n",
       "      <td>10</td>\n",
       "      <td>promoter</td>\n",
       "    </tr>\n",
       "    <tr>\n",
       "      <th>364696</th>\n",
       "      <td>SV4ODC</td>\n",
       "      <td>653</td>\n",
       "      <td>old</td>\n",
       "      <td>38.0</td>\n",
       "      <td>woman</td>\n",
       "      <td>ANDROID</td>\n",
       "      <td>SMARTPHONE</td>\n",
       "      <td>Россия</td>\n",
       "      <td>Тольятти</td>\n",
       "      <td>35-44</td>\n",
       "      <td>30-35</td>\n",
       "      <td>6</td>\n",
       "      <td>5</td>\n",
       "      <td>detractor</td>\n",
       "    </tr>\n",
       "    <tr>\n",
       "      <th>338674</th>\n",
       "      <td>RIX2K4</td>\n",
       "      <td>2148</td>\n",
       "      <td>old</td>\n",
       "      <td>41.0</td>\n",
       "      <td>man</td>\n",
       "      <td>ANDROID</td>\n",
       "      <td>SMARTPHONE</td>\n",
       "      <td>Россия</td>\n",
       "      <td>Архангельск</td>\n",
       "      <td>35-44</td>\n",
       "      <td>5-10</td>\n",
       "      <td>8</td>\n",
       "      <td>7</td>\n",
       "      <td>passive</td>\n",
       "    </tr>\n",
       "    <tr>\n",
       "      <th>168689</th>\n",
       "      <td>IPH7GP</td>\n",
       "      <td>736</td>\n",
       "      <td>old</td>\n",
       "      <td>25.0</td>\n",
       "      <td>woman</td>\n",
       "      <td>ANDROID</td>\n",
       "      <td>SMARTPHONE</td>\n",
       "      <td>Россия</td>\n",
       "      <td>Краснодар</td>\n",
       "      <td>25-34</td>\n",
       "      <td>60-65</td>\n",
       "      <td>7</td>\n",
       "      <td>10</td>\n",
       "      <td>promoter</td>\n",
       "    </tr>\n",
       "    <tr>\n",
       "      <th>1756</th>\n",
       "      <td>A3A042</td>\n",
       "      <td>2629</td>\n",
       "      <td>old</td>\n",
       "      <td>32.0</td>\n",
       "      <td>man</td>\n",
       "      <td>ANDROID</td>\n",
       "      <td>SMARTPHONE</td>\n",
       "      <td>Россия</td>\n",
       "      <td>Ижевск</td>\n",
       "      <td>25-34</td>\n",
       "      <td>60-65</td>\n",
       "      <td>8</td>\n",
       "      <td>5</td>\n",
       "      <td>detractor</td>\n",
       "    </tr>\n",
       "    <tr>\n",
       "      <th>151303</th>\n",
       "      <td>HT2JLS</td>\n",
       "      <td>2465</td>\n",
       "      <td>old</td>\n",
       "      <td>41.0</td>\n",
       "      <td>man</td>\n",
       "      <td>ANDROID</td>\n",
       "      <td>SMARTPHONE</td>\n",
       "      <td>Россия</td>\n",
       "      <td>Ижевск</td>\n",
       "      <td>35-44</td>\n",
       "      <td>0.01-0.1</td>\n",
       "      <td>8</td>\n",
       "      <td>3</td>\n",
       "      <td>detractor</td>\n",
       "    </tr>\n",
       "    <tr>\n",
       "      <th>171864</th>\n",
       "      <td>IVDMKH</td>\n",
       "      <td>4014</td>\n",
       "      <td>old</td>\n",
       "      <td>48.0</td>\n",
       "      <td>woman</td>\n",
       "      <td>ANDROID</td>\n",
       "      <td>SMARTPHONE</td>\n",
       "      <td>Россия</td>\n",
       "      <td>НижнийНовгород</td>\n",
       "      <td>45-54</td>\n",
       "      <td>5-10</td>\n",
       "      <td>8</td>\n",
       "      <td>10</td>\n",
       "      <td>promoter</td>\n",
       "    </tr>\n",
       "    <tr>\n",
       "      <th>759</th>\n",
       "      <td>A1EMMG</td>\n",
       "      <td>4429</td>\n",
       "      <td>old</td>\n",
       "      <td>54.0</td>\n",
       "      <td>woman</td>\n",
       "      <td>ANDROID</td>\n",
       "      <td>SMARTPHONE</td>\n",
       "      <td>Россия</td>\n",
       "      <td>СанктПетербург</td>\n",
       "      <td>45-54</td>\n",
       "      <td>25-30</td>\n",
       "      <td>8</td>\n",
       "      <td>10</td>\n",
       "      <td>promoter</td>\n",
       "    </tr>\n",
       "    <tr>\n",
       "      <th>414278</th>\n",
       "      <td>VFFWNN</td>\n",
       "      <td>285</td>\n",
       "      <td>new</td>\n",
       "      <td>51.0</td>\n",
       "      <td>woman</td>\n",
       "      <td>ANDROID</td>\n",
       "      <td>TABLET</td>\n",
       "      <td>Россия</td>\n",
       "      <td>Кемерово</td>\n",
       "      <td>45-54</td>\n",
       "      <td>5-10</td>\n",
       "      <td>5</td>\n",
       "      <td>1</td>\n",
       "      <td>detractor</td>\n",
       "    </tr>\n",
       "    <tr>\n",
       "      <th>255853</th>\n",
       "      <td>N8AH0H</td>\n",
       "      <td>1564</td>\n",
       "      <td>old</td>\n",
       "      <td>32.0</td>\n",
       "      <td>woman</td>\n",
       "      <td>IOS</td>\n",
       "      <td>SMARTPHONE</td>\n",
       "      <td>Россия</td>\n",
       "      <td>Москва</td>\n",
       "      <td>25-34</td>\n",
       "      <td>1-5</td>\n",
       "      <td>8</td>\n",
       "      <td>8</td>\n",
       "      <td>passive</td>\n",
       "    </tr>\n",
       "    <tr>\n",
       "      <th>359804</th>\n",
       "      <td>SLZ80Q</td>\n",
       "      <td>2566</td>\n",
       "      <td>old</td>\n",
       "      <td>49.0</td>\n",
       "      <td>woman</td>\n",
       "      <td>ANDROID</td>\n",
       "      <td>SMARTPHONE</td>\n",
       "      <td>Россия</td>\n",
       "      <td>Челябинск</td>\n",
       "      <td>45-54</td>\n",
       "      <td>30-35</td>\n",
       "      <td>8</td>\n",
       "      <td>10</td>\n",
       "      <td>promoter</td>\n",
       "    </tr>\n",
       "    <tr>\n",
       "      <th>355238</th>\n",
       "      <td>SDKKWZ</td>\n",
       "      <td>1015</td>\n",
       "      <td>old</td>\n",
       "      <td>51.0</td>\n",
       "      <td>woman</td>\n",
       "      <td>ANDROID</td>\n",
       "      <td>SMARTPHONE</td>\n",
       "      <td>Россия</td>\n",
       "      <td>Москва</td>\n",
       "      <td>45-54</td>\n",
       "      <td>10-15</td>\n",
       "      <td>7</td>\n",
       "      <td>8</td>\n",
       "      <td>passive</td>\n",
       "    </tr>\n",
       "    <tr>\n",
       "      <th>293763</th>\n",
       "      <td>P73CK4</td>\n",
       "      <td>348</td>\n",
       "      <td>new</td>\n",
       "      <td>51.0</td>\n",
       "      <td>woman</td>\n",
       "      <td>ANDROID</td>\n",
       "      <td>SMARTPHONE</td>\n",
       "      <td>Россия</td>\n",
       "      <td>Челябинск</td>\n",
       "      <td>45-54</td>\n",
       "      <td>1-5</td>\n",
       "      <td>5</td>\n",
       "      <td>10</td>\n",
       "      <td>promoter</td>\n",
       "    </tr>\n",
       "    <tr>\n",
       "      <th>109970</th>\n",
       "      <td>FO2PUX</td>\n",
       "      <td>676</td>\n",
       "      <td>old</td>\n",
       "      <td>31.0</td>\n",
       "      <td>woman</td>\n",
       "      <td>ANDROID</td>\n",
       "      <td>SMARTPHONE</td>\n",
       "      <td>Россия</td>\n",
       "      <td>Екатеринбург</td>\n",
       "      <td>25-34</td>\n",
       "      <td>0.1-1</td>\n",
       "      <td>6</td>\n",
       "      <td>5</td>\n",
       "      <td>detractor</td>\n",
       "    </tr>\n",
       "    <tr>\n",
       "      <th>393262</th>\n",
       "      <td>UCOGZ0</td>\n",
       "      <td>1190</td>\n",
       "      <td>old</td>\n",
       "      <td>31.0</td>\n",
       "      <td>man</td>\n",
       "      <td>ANDROID</td>\n",
       "      <td>SMARTPHONE</td>\n",
       "      <td>Россия</td>\n",
       "      <td>СанктПетербург</td>\n",
       "      <td>25-34</td>\n",
       "      <td>0.1-1</td>\n",
       "      <td>8</td>\n",
       "      <td>8</td>\n",
       "      <td>passive</td>\n",
       "    </tr>\n",
       "    <tr>\n",
       "      <th>432914</th>\n",
       "      <td>WEI8EP</td>\n",
       "      <td>1463</td>\n",
       "      <td>old</td>\n",
       "      <td>43.0</td>\n",
       "      <td>man</td>\n",
       "      <td>ANDROID</td>\n",
       "      <td>SMARTPHONE</td>\n",
       "      <td>Россия</td>\n",
       "      <td>Омск</td>\n",
       "      <td>35-44</td>\n",
       "      <td>35-40</td>\n",
       "      <td>8</td>\n",
       "      <td>1</td>\n",
       "      <td>detractor</td>\n",
       "    </tr>\n",
       "    <tr>\n",
       "      <th>99405</th>\n",
       "      <td>F4B2ZJ</td>\n",
       "      <td>1821</td>\n",
       "      <td>old</td>\n",
       "      <td>32.0</td>\n",
       "      <td>man</td>\n",
       "      <td>ANDROID</td>\n",
       "      <td>SMARTPHONE</td>\n",
       "      <td>Россия</td>\n",
       "      <td>Москва</td>\n",
       "      <td>25-34</td>\n",
       "      <td>20-25</td>\n",
       "      <td>8</td>\n",
       "      <td>8</td>\n",
       "      <td>passive</td>\n",
       "    </tr>\n",
       "    <tr>\n",
       "      <th>127595</th>\n",
       "      <td>GKQHDC</td>\n",
       "      <td>2836</td>\n",
       "      <td>old</td>\n",
       "      <td>36.0</td>\n",
       "      <td>woman</td>\n",
       "      <td>ANDROID</td>\n",
       "      <td>SMARTPHONE</td>\n",
       "      <td>Россия</td>\n",
       "      <td>Новосибирск</td>\n",
       "      <td>35-44</td>\n",
       "      <td>10-15</td>\n",
       "      <td>8</td>\n",
       "      <td>8</td>\n",
       "      <td>passive</td>\n",
       "    </tr>\n",
       "    <tr>\n",
       "      <th>420769</th>\n",
       "      <td>VRNCJ2</td>\n",
       "      <td>448</td>\n",
       "      <td>old</td>\n",
       "      <td>44.0</td>\n",
       "      <td>man</td>\n",
       "      <td>ANDROID</td>\n",
       "      <td>SMARTPHONE</td>\n",
       "      <td>Россия</td>\n",
       "      <td>Саранск</td>\n",
       "      <td>35-44</td>\n",
       "      <td>10-15</td>\n",
       "      <td>6</td>\n",
       "      <td>10</td>\n",
       "      <td>promoter</td>\n",
       "    </tr>\n",
       "    <tr>\n",
       "      <th>80537</th>\n",
       "      <td>E5GVT3</td>\n",
       "      <td>2559</td>\n",
       "      <td>old</td>\n",
       "      <td>35.0</td>\n",
       "      <td>man</td>\n",
       "      <td>ANDROID</td>\n",
       "      <td>SMARTPHONE</td>\n",
       "      <td>Россия</td>\n",
       "      <td>Барнаул</td>\n",
       "      <td>35-44</td>\n",
       "      <td>20-25</td>\n",
       "      <td>8</td>\n",
       "      <td>2</td>\n",
       "      <td>detractor</td>\n",
       "    </tr>\n",
       "  </tbody>\n",
       "</table>\n",
       "</div>"
      ],
      "text/plain": [
       "       user_id  lt_day is_new   age gender_segment  os_name cpe_type_name  \\\n",
       "340647  RMKKQC     222    new  30.0            man  ANDROID    SMARTPHONE   \n",
       "237565  MAB47R     777    old  30.0          woman  ANDROID    SMARTPHONE   \n",
       "352321  S8B2S0    1676    old  41.0            man  ANDROID    SMARTPHONE   \n",
       "291603  P2X8EO    3983    old  30.0          woman  ANDROID    SMARTPHONE   \n",
       "356378  SFP7E2    4211    old  44.0          woman  ANDROID    SMARTPHONE   \n",
       "365597  SWRKYD    4016    old  61.0          woman  ANDROID    SMARTPHONE   \n",
       "364696  SV4ODC     653    old  38.0          woman  ANDROID    SMARTPHONE   \n",
       "338674  RIX2K4    2148    old  41.0            man  ANDROID    SMARTPHONE   \n",
       "168689  IPH7GP     736    old  25.0          woman  ANDROID    SMARTPHONE   \n",
       "1756    A3A042    2629    old  32.0            man  ANDROID    SMARTPHONE   \n",
       "151303  HT2JLS    2465    old  41.0            man  ANDROID    SMARTPHONE   \n",
       "171864  IVDMKH    4014    old  48.0          woman  ANDROID    SMARTPHONE   \n",
       "759     A1EMMG    4429    old  54.0          woman  ANDROID    SMARTPHONE   \n",
       "414278  VFFWNN     285    new  51.0          woman  ANDROID        TABLET   \n",
       "255853  N8AH0H    1564    old  32.0          woman      IOS    SMARTPHONE   \n",
       "359804  SLZ80Q    2566    old  49.0          woman  ANDROID    SMARTPHONE   \n",
       "355238  SDKKWZ    1015    old  51.0          woman  ANDROID    SMARTPHONE   \n",
       "293763  P73CK4     348    new  51.0          woman  ANDROID    SMARTPHONE   \n",
       "109970  FO2PUX     676    old  31.0          woman  ANDROID    SMARTPHONE   \n",
       "393262  UCOGZ0    1190    old  31.0            man  ANDROID    SMARTPHONE   \n",
       "432914  WEI8EP    1463    old  43.0            man  ANDROID    SMARTPHONE   \n",
       "99405   F4B2ZJ    1821    old  32.0            man  ANDROID    SMARTPHONE   \n",
       "127595  GKQHDC    2836    old  36.0          woman  ANDROID    SMARTPHONE   \n",
       "420769  VRNCJ2     448    old  44.0            man  ANDROID    SMARTPHONE   \n",
       "80537   E5GVT3    2559    old  35.0            man  ANDROID    SMARTPHONE   \n",
       "\n",
       "       country            city age_segment traffic_segment  lifetime_segment  \\\n",
       "340647  Россия          Москва       25-34           40-45                 5   \n",
       "237565  Россия  НижнийНовгород       25-34           35-40                 7   \n",
       "352321  Россия          Москва       35-44            5-10                 8   \n",
       "291603  Россия       Волгоград       25-34           15-20                 8   \n",
       "356378  Россия       Хабаровск       35-44             1-5                 8   \n",
       "365597  Россия        Балашиха       55-64             1-5                 8   \n",
       "364696  Россия        Тольятти       35-44           30-35                 6   \n",
       "338674  Россия     Архангельск       35-44            5-10                 8   \n",
       "168689  Россия       Краснодар       25-34           60-65                 7   \n",
       "1756    Россия          Ижевск       25-34           60-65                 8   \n",
       "151303  Россия          Ижевск       35-44        0.01-0.1                 8   \n",
       "171864  Россия  НижнийНовгород       45-54            5-10                 8   \n",
       "759     Россия  СанктПетербург       45-54           25-30                 8   \n",
       "414278  Россия        Кемерово       45-54            5-10                 5   \n",
       "255853  Россия          Москва       25-34             1-5                 8   \n",
       "359804  Россия       Челябинск       45-54           30-35                 8   \n",
       "355238  Россия          Москва       45-54           10-15                 7   \n",
       "293763  Россия       Челябинск       45-54             1-5                 5   \n",
       "109970  Россия    Екатеринбург       25-34           0.1-1                 6   \n",
       "393262  Россия  СанктПетербург       25-34           0.1-1                 8   \n",
       "432914  Россия            Омск       35-44           35-40                 8   \n",
       "99405   Россия          Москва       25-34           20-25                 8   \n",
       "127595  Россия     Новосибирск       35-44           10-15                 8   \n",
       "420769  Россия         Саранск       35-44           10-15                 6   \n",
       "80537   Россия         Барнаул       35-44           20-25                 8   \n",
       "\n",
       "        nps_score  nps_group  \n",
       "340647         10   promoter  \n",
       "237565         10   promoter  \n",
       "352321         10   promoter  \n",
       "291603          8    passive  \n",
       "356378          5  detractor  \n",
       "365597         10   promoter  \n",
       "364696          5  detractor  \n",
       "338674          7    passive  \n",
       "168689         10   promoter  \n",
       "1756            5  detractor  \n",
       "151303          3  detractor  \n",
       "171864         10   promoter  \n",
       "759            10   promoter  \n",
       "414278          1  detractor  \n",
       "255853          8    passive  \n",
       "359804         10   promoter  \n",
       "355238          8    passive  \n",
       "293763         10   promoter  \n",
       "109970          5  detractor  \n",
       "393262          8    passive  \n",
       "432914          1  detractor  \n",
       "99405           8    passive  \n",
       "127595          8    passive  \n",
       "420769         10   promoter  \n",
       "80537           2  detractor  "
      ]
     },
     "metadata": {},
     "output_type": "display_data"
    }
   ],
   "source": [
    "df = pd.read_sql(query, engine)\n",
    "\n",
    "display(\n",
    "    df.info(),\n",
    "    df.sample(25)\n",
    ")"
   ]
  },
  {
   "cell_type": "markdown",
   "id": "f079b003",
   "metadata": {},
   "source": [
    "Всё работает корректно!"
   ]
  },
  {
   "cell_type": "markdown",
   "id": "a6e63496",
   "metadata": {},
   "source": [
    "#### 3. Выгрузка таблицы в CSV"
   ]
  },
  {
   "cell_type": "code",
   "execution_count": 82,
   "id": "9db04858",
   "metadata": {},
   "outputs": [],
   "source": [
    "df.to_csv('telecomm_csi_tableau.csv', index=False)"
   ]
  },
  {
   "cell_type": "markdown",
   "id": "ac17143c",
   "metadata": {},
   "source": [
    "### Шаг 4. Ссылка на дашборд"
   ]
  },
  {
   "cell_type": "markdown",
   "id": "a7204d9f",
   "metadata": {},
   "source": [
    "[Ссылка](https://public.tableau.com/app/profile/roman.khateev/viz/sborny_project/sheet24?publish=yes)"
   ]
  }
 ],
 "metadata": {
  "ExecuteTimeLog": [
   {
    "duration": 48,
    "start_time": "2024-08-27T09:35:33.087Z"
   },
   {
    "duration": 523,
    "start_time": "2024-08-27T09:35:35.259Z"
   },
   {
    "duration": 31,
    "start_time": "2024-08-27T09:35:38.329Z"
   },
   {
    "duration": 12,
    "start_time": "2024-08-27T09:35:44.752Z"
   },
   {
    "duration": 3,
    "start_time": "2024-08-27T09:36:05.188Z"
   },
   {
    "duration": 644,
    "start_time": "2024-08-27T09:36:05.494Z"
   },
   {
    "duration": 2,
    "start_time": "2024-08-27T09:37:56.622Z"
   },
   {
    "duration": 3646,
    "start_time": "2024-08-27T09:37:56.840Z"
   },
   {
    "duration": 3,
    "start_time": "2024-08-27T09:39:31.079Z"
   },
   {
    "duration": 3548,
    "start_time": "2024-08-27T09:40:33.252Z"
   },
   {
    "duration": 2,
    "start_time": "2024-08-27T09:41:37.103Z"
   },
   {
    "duration": 3713,
    "start_time": "2024-08-27T09:41:57.731Z"
   },
   {
    "duration": 3650,
    "start_time": "2024-08-27T09:42:22.502Z"
   },
   {
    "duration": 2,
    "start_time": "2024-08-27T09:49:37.894Z"
   },
   {
    "duration": 2353,
    "start_time": "2024-08-27T09:49:38.488Z"
   },
   {
    "duration": 2492,
    "start_time": "2024-08-27T09:49:53.847Z"
   },
   {
    "duration": 3,
    "start_time": "2024-08-27T09:50:25.241Z"
   },
   {
    "duration": 2651,
    "start_time": "2024-08-27T09:50:25.897Z"
   },
   {
    "duration": 2,
    "start_time": "2024-08-27T09:51:25.754Z"
   },
   {
    "duration": 2544,
    "start_time": "2024-08-27T09:51:26.281Z"
   },
   {
    "duration": 3,
    "start_time": "2024-08-27T09:52:30.881Z"
   },
   {
    "duration": 2775,
    "start_time": "2024-08-27T09:52:31.367Z"
   },
   {
    "duration": 4,
    "start_time": "2024-08-27T09:52:45.037Z"
   },
   {
    "duration": 2757,
    "start_time": "2024-08-27T09:52:45.741Z"
   },
   {
    "duration": 2,
    "start_time": "2024-08-27T09:53:38.002Z"
   },
   {
    "duration": 3045,
    "start_time": "2024-08-27T09:53:38.459Z"
   },
   {
    "duration": 2,
    "start_time": "2024-08-27T09:54:06.109Z"
   },
   {
    "duration": 3056,
    "start_time": "2024-08-27T09:54:06.561Z"
   },
   {
    "duration": 3,
    "start_time": "2024-08-27T09:54:37.584Z"
   },
   {
    "duration": 3417,
    "start_time": "2024-08-27T09:54:38.387Z"
   },
   {
    "duration": 138,
    "start_time": "2024-08-27T09:54:56.632Z"
   },
   {
    "duration": 3,
    "start_time": "2024-08-27T10:14:02.067Z"
   },
   {
    "duration": 3408,
    "start_time": "2024-08-27T10:14:02.411Z"
   },
   {
    "duration": 3,
    "start_time": "2024-08-27T10:15:26.259Z"
   },
   {
    "duration": 4444,
    "start_time": "2024-08-27T10:15:26.659Z"
   },
   {
    "duration": 3,
    "start_time": "2024-08-27T10:17:04.409Z"
   },
   {
    "duration": 380,
    "start_time": "2024-08-27T10:17:05.278Z"
   },
   {
    "duration": 2,
    "start_time": "2024-08-27T10:18:07.784Z"
   },
   {
    "duration": 352,
    "start_time": "2024-08-27T10:18:08.354Z"
   },
   {
    "duration": 3,
    "start_time": "2024-08-27T10:18:30.068Z"
   },
   {
    "duration": 5041,
    "start_time": "2024-08-27T10:18:30.633Z"
   },
   {
    "duration": 3,
    "start_time": "2024-08-27T10:19:12.296Z"
   },
   {
    "duration": 5163,
    "start_time": "2024-08-27T10:19:12.451Z"
   },
   {
    "duration": 149,
    "start_time": "2024-08-27T10:19:30.143Z"
   },
   {
    "duration": 3,
    "start_time": "2024-08-27T10:25:42.937Z"
   },
   {
    "duration": 484,
    "start_time": "2024-08-27T10:25:43.079Z"
   },
   {
    "duration": 3,
    "start_time": "2024-08-27T10:26:24.505Z"
   },
   {
    "duration": 347,
    "start_time": "2024-08-27T10:26:24.699Z"
   },
   {
    "duration": 3,
    "start_time": "2024-08-27T10:27:05.693Z"
   },
   {
    "duration": 377,
    "start_time": "2024-08-27T10:27:06.122Z"
   },
   {
    "duration": 3,
    "start_time": "2024-08-27T10:28:01.991Z"
   },
   {
    "duration": 5368,
    "start_time": "2024-08-27T10:28:02.114Z"
   },
   {
    "duration": 153,
    "start_time": "2024-08-27T10:28:12.231Z"
   },
   {
    "duration": 2,
    "start_time": "2024-08-27T10:32:38.485Z"
   },
   {
    "duration": 5632,
    "start_time": "2024-08-27T10:32:38.621Z"
   },
   {
    "duration": 4,
    "start_time": "2024-08-27T10:33:32.190Z"
   },
   {
    "duration": 5638,
    "start_time": "2024-08-27T10:33:32.314Z"
   },
   {
    "duration": 3,
    "start_time": "2024-08-27T10:34:39.574Z"
   },
   {
    "duration": 6047,
    "start_time": "2024-08-27T10:34:39.700Z"
   },
   {
    "duration": 10,
    "start_time": "2024-08-27T10:35:12.039Z"
   },
   {
    "duration": 9,
    "start_time": "2024-08-27T10:35:19.202Z"
   },
   {
    "duration": 3,
    "start_time": "2024-08-27T11:44:32.678Z"
   },
   {
    "duration": 5951,
    "start_time": "2024-08-27T11:44:32.798Z"
   },
   {
    "duration": 3,
    "start_time": "2024-08-27T11:45:01.731Z"
   },
   {
    "duration": 5841,
    "start_time": "2024-08-27T11:45:01.736Z"
   },
   {
    "duration": 9,
    "start_time": "2024-08-27T11:47:44.181Z"
   },
   {
    "duration": 2,
    "start_time": "2024-08-27T11:49:24.337Z"
   },
   {
    "duration": 6664,
    "start_time": "2024-08-27T11:49:24.469Z"
   },
   {
    "duration": 3,
    "start_time": "2024-08-27T11:50:17.642Z"
   },
   {
    "duration": 6513,
    "start_time": "2024-08-27T11:50:18.031Z"
   },
   {
    "duration": 39,
    "start_time": "2024-08-27T11:50:42.092Z"
   },
   {
    "duration": 2,
    "start_time": "2024-08-27T14:45:15.327Z"
   },
   {
    "duration": 4,
    "start_time": "2024-08-27T14:47:15.810Z"
   },
   {
    "duration": 3,
    "start_time": "2024-08-27T14:47:30.238Z"
   },
   {
    "duration": 836,
    "start_time": "2024-08-27T14:47:49.601Z"
   },
   {
    "duration": 584,
    "start_time": "2024-08-27T14:48:02.365Z"
   },
   {
    "duration": 807,
    "start_time": "2024-08-27T14:49:46.718Z"
   },
   {
    "duration": 92,
    "start_time": "2024-08-27T14:49:51.530Z"
   },
   {
    "duration": 2,
    "start_time": "2024-08-27T14:49:56.673Z"
   },
   {
    "duration": 7195,
    "start_time": "2024-08-27T14:49:59.154Z"
   },
   {
    "duration": 5003,
    "start_time": "2024-08-27T14:50:50.380Z"
   },
   {
    "duration": 5411,
    "start_time": "2024-08-27T15:00:27.824Z"
   },
   {
    "duration": 145,
    "start_time": "2024-08-27T16:52:45.908Z"
   }
  ],
  "kernelspec": {
   "display_name": "Python 3 (ipykernel)",
   "language": "python",
   "name": "python3"
  },
  "language_info": {
   "codemirror_mode": {
    "name": "ipython",
    "version": 3
   },
   "file_extension": ".py",
   "mimetype": "text/x-python",
   "name": "python",
   "nbconvert_exporter": "python",
   "pygments_lexer": "ipython3",
   "version": "3.11.1"
  },
  "toc": {
   "base_numbering": 1,
   "nav_menu": {},
   "number_sections": false,
   "sideBar": true,
   "skip_h1_title": true,
   "title_cell": "Table of Contents",
   "title_sidebar": "Contents",
   "toc_cell": false,
   "toc_position": {
    "height": "calc(100% - 180px)",
    "left": "10px",
    "top": "150px",
    "width": "384px"
   },
   "toc_section_display": true,
   "toc_window_display": true
  }
 },
 "nbformat": 4,
 "nbformat_minor": 5
}
